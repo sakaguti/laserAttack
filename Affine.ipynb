{
 "cells": [
  {
   "cell_type": "code",
   "execution_count": 4,
   "metadata": {},
   "outputs": [
    {
     "name": "stdout",
     "output_type": "stream",
     "text": [
      "M= [[  3.0437788    0.05069124  46.53686636]\n",
      " [ -0.09965438   3.10829493  35.31739631]]\n",
      "dst.shape= (240, 320, 3)\n",
      "img.shape= (240, 320, 3)\n"
     ]
    },
    {
     "data": {
      "text/plain": [
       "True"
      ]
     },
     "execution_count": 4,
     "metadata": {},
     "output_type": "execute_result"
    }
   ],
   "source": [
    "import cv2\n",
    "import numpy as np\n",
    "\n",
    "img = cv2.imread('/mnt/photo/LeptonImg0123.jpg',1)\n",
    "rows= img.shape[0]\n",
    "cols= img.shape[1]\n",
    "\n",
    "# Lepthon 座標　電子ライター１、電子ライター２、電子ライター３のピクセル座標\n",
    "pts1 = np.float32([[23,9],[71,7],[51,44]])\n",
    "# PiCam 座標　　電子ライター１、電子ライター２、電子ライター３のピクセル座標\n",
    "pts2 = np.float32([[117,61],[263,50],[204,167]])\n",
    "\n",
    "M = cv2.getAffineTransform(pts1,pts2)\n",
    "np.save('M.npy',M)\n",
    "\n",
    "rows = 240\n",
    "cols = 320\n",
    "dst = cv2.warpAffine(img,M,(cols,rows))\n",
    "print 'M=',M\n",
    "\n",
    "cv2.imwrite('/mnt/photo/TrLeptonImg0123.jpg',dst)\n",
    "print 'dst.shape=',dst.shape\n",
    "\n",
    "img = cv2.imread('/mnt/photo/P0.jpg')\n",
    "\n",
    "print 'img.shape=',img.shape\n",
    "CompImg = cv2.addWeighted(img, 1.0, dst, 0.8, 0.8)\n",
    "cv2.imwrite('/mnt/photo/P0123.jpg',CompImg)"
   ]
  },
  {
   "cell_type": "code",
   "execution_count": null,
   "metadata": {
    "collapsed": true
   },
   "outputs": [],
   "source": []
  }
 ],
 "metadata": {
  "kernelspec": {
   "display_name": "Python 2",
   "language": "python",
   "name": "python2"
  },
  "language_info": {
   "codemirror_mode": {
    "name": "ipython",
    "version": 2
   },
   "file_extension": ".py",
   "mimetype": "text/x-python",
   "name": "python",
   "nbconvert_exporter": "python",
   "pygments_lexer": "ipython2",
   "version": "2.7.9"
  }
 },
 "nbformat": 4,
 "nbformat_minor": 2
}
